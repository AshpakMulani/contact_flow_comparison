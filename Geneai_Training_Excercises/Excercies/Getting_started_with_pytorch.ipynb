{
  "nbformat": 4,
  "nbformat_minor": 0,
  "metadata": {
    "colab": {
      "provenance": [],
      "gpuType": "T4"
    },
    "kernelspec": {
      "name": "python3",
      "display_name": "Python 3"
    },
    "language_info": {
      "name": "python"
    },
    "accelerator": "GPU"
  },
  "cells": [
    {
      "cell_type": "markdown",
      "source": [
        "# **PyTorch:**\n",
        "\n",
        "1. PyTorch is an open-source machine learning library developed by Facebook.\n",
        "\n",
        "2. It is widely used for various machine learning tasks, including deep learning.\n",
        "\n",
        "3. PyTorch provides a flexible and dynamic computational graph, making it popular among researchers and practitioners. It supports dynamic computation, which allows for easy debugging and experimentation."
      ],
      "metadata": {
        "id": "s31D9VwurDKH"
      }
    },
    {
      "cell_type": "code",
      "execution_count": null,
      "metadata": {
        "colab": {
          "base_uri": "https://localhost:8080/"
        },
        "id": "C47UfS8L5_tO",
        "outputId": "7803a733-d26d-438f-9cfc-5208fe74263a"
      },
      "outputs": [
        {
          "output_type": "stream",
          "name": "stdout",
          "text": [
            "Requirement already satisfied: torch in /usr/local/lib/python3.10/dist-packages (2.1.0+cu121)\n",
            "Requirement already satisfied: torchvision in /usr/local/lib/python3.10/dist-packages (0.16.0+cu121)\n",
            "Requirement already satisfied: filelock in /usr/local/lib/python3.10/dist-packages (from torch) (3.13.1)\n",
            "Requirement already satisfied: typing-extensions in /usr/local/lib/python3.10/dist-packages (from torch) (4.5.0)\n",
            "Requirement already satisfied: sympy in /usr/local/lib/python3.10/dist-packages (from torch) (1.12)\n",
            "Requirement already satisfied: networkx in /usr/local/lib/python3.10/dist-packages (from torch) (3.2.1)\n",
            "Requirement already satisfied: jinja2 in /usr/local/lib/python3.10/dist-packages (from torch) (3.1.3)\n",
            "Requirement already satisfied: fsspec in /usr/local/lib/python3.10/dist-packages (from torch) (2023.6.0)\n",
            "Requirement already satisfied: triton==2.1.0 in /usr/local/lib/python3.10/dist-packages (from torch) (2.1.0)\n",
            "Requirement already satisfied: numpy in /usr/local/lib/python3.10/dist-packages (from torchvision) (1.23.5)\n",
            "Requirement already satisfied: requests in /usr/local/lib/python3.10/dist-packages (from torchvision) (2.31.0)\n",
            "Requirement already satisfied: pillow!=8.3.*,>=5.3.0 in /usr/local/lib/python3.10/dist-packages (from torchvision) (9.4.0)\n",
            "Requirement already satisfied: MarkupSafe>=2.0 in /usr/local/lib/python3.10/dist-packages (from jinja2->torch) (2.1.3)\n",
            "Requirement already satisfied: charset-normalizer<4,>=2 in /usr/local/lib/python3.10/dist-packages (from requests->torchvision) (3.3.2)\n",
            "Requirement already satisfied: idna<4,>=2.5 in /usr/local/lib/python3.10/dist-packages (from requests->torchvision) (3.6)\n",
            "Requirement already satisfied: urllib3<3,>=1.21.1 in /usr/local/lib/python3.10/dist-packages (from requests->torchvision) (2.0.7)\n",
            "Requirement already satisfied: certifi>=2017.4.17 in /usr/local/lib/python3.10/dist-packages (from requests->torchvision) (2023.11.17)\n",
            "Requirement already satisfied: mpmath>=0.19 in /usr/local/lib/python3.10/dist-packages (from sympy->torch) (1.3.0)\n"
          ]
        }
      ],
      "source": [
        "!pip install torch torchvision"
      ]
    },
    {
      "cell_type": "code",
      "source": [
        "import torch\n",
        "import torchvision"
      ],
      "metadata": {
        "id": "kwL1UVtB_c3V"
      },
      "execution_count": null,
      "outputs": []
    },
    {
      "cell_type": "markdown",
      "source": [
        "# **Tensors:**\n",
        "1. Tensors are the fundamental data structures in PyTorch.\n",
        "\n",
        "2. They are similar to NumPy arrays but come with additional features, especially for deep learning.\n",
        "\n",
        "3. Tensors can represent scalars, vectors, matrices, or higher-dimensional arrays.\n",
        "\n",
        "4. PyTorch tensors can be manipulated and operated on using a wide range of functions, and they can also track gradients for automatic differentiation."
      ],
      "metadata": {
        "id": "9sq87tLAsDsT"
      }
    },
    {
      "cell_type": "code",
      "source": [
        "## 3. Tensors\n",
        "# Creating tensors\n",
        "tensor_a = torch.tensor([1, 2, 3])\n",
        "tensor_b = torch.tensor([[4, 5, 6], [7, 8, 9]])"
      ],
      "metadata": {
        "id": "ZolRQbW8C51H"
      },
      "execution_count": null,
      "outputs": []
    },
    {
      "cell_type": "code",
      "source": [
        "# Operations on tensors\n",
        "tensor_sum = tensor_a + tensor_b\n",
        "tensor_sum"
      ],
      "metadata": {
        "colab": {
          "base_uri": "https://localhost:8080/"
        },
        "id": "i9CfMw1TC8Ag",
        "outputId": "8df0a6a2-25a9-455e-b0bb-0419b9428b0e"
      },
      "execution_count": null,
      "outputs": [
        {
          "output_type": "execute_result",
          "data": {
            "text/plain": [
              "tensor([[ 5,  7,  9],\n",
              "        [ 8, 10, 12]])"
            ]
          },
          "metadata": {},
          "execution_count": 10
        }
      ]
    },
    {
      "cell_type": "code",
      "source": [
        "tensor_multiply = tensor_a * tensor_b\n",
        "tensor_multiply"
      ],
      "metadata": {
        "colab": {
          "base_uri": "https://localhost:8080/"
        },
        "id": "yNE3loS6DBg3",
        "outputId": "79a7ac84-f286-4d46-a13e-7de2f9e7c62a"
      },
      "execution_count": null,
      "outputs": [
        {
          "output_type": "execute_result",
          "data": {
            "text/plain": [
              "tensor([[ 4, 10, 18],\n",
              "        [ 7, 16, 27]])"
            ]
          },
          "metadata": {},
          "execution_count": 12
        }
      ]
    },
    {
      "cell_type": "markdown",
      "source": [
        "# **Autograd (Automatic Differentiation):**\n",
        "1. Autograd, short for automatic differentiation, is a key feature in PyTorch.\n",
        "\n",
        "2. It allows the system to automatically calculate gradients of tensors with respect to some variable.\n",
        "\n",
        "3. This is crucial for training neural networks using gradient-based optimization algorithms.\n",
        "\n",
        "4. When you set requires_grad=True for a PyTorch tensor, it starts to track operations on it, and you can later perform a backward pass to compute gradients.\n",
        "\n"
      ],
      "metadata": {
        "id": "-zO0-Zd6st6V"
      }
    },
    {
      "cell_type": "code",
      "source": [
        "## 4. Autograd\n",
        "# Tensors with gradient tracking\n",
        "tensor_with_grad = torch.tensor([1.0, 2.0, 3.0], requires_grad=True)\n",
        "output = 3 * (tensor_with_grad ** 2).sum()"
      ],
      "metadata": {
        "id": "GxAE-jRGDEh2"
      },
      "execution_count": null,
      "outputs": []
    },
    {
      "cell_type": "code",
      "source": [
        "# Print the output\n",
        "print(\"Output:\", output.item())"
      ],
      "metadata": {
        "colab": {
          "base_uri": "https://localhost:8080/"
        },
        "id": "Nijlwu67DMh-",
        "outputId": "d7c070b2-7c86-4882-bbe8-66ba0f7d3e3b"
      },
      "execution_count": null,
      "outputs": [
        {
          "output_type": "stream",
          "name": "stdout",
          "text": [
            "Output: 42.0\n"
          ]
        }
      ]
    },
    {
      "cell_type": "code",
      "source": [
        "# Backward pass to compute gradients\n",
        "output.backward()"
      ],
      "metadata": {
        "id": "iVzdUySmDUOI"
      },
      "execution_count": null,
      "outputs": []
    },
    {
      "cell_type": "code",
      "source": [
        "# Accessing gradients\n",
        "gradients = tensor_with_grad.grad"
      ],
      "metadata": {
        "id": "rYGkMVU5DiSe"
      },
      "execution_count": null,
      "outputs": []
    },
    {
      "cell_type": "code",
      "source": [
        "# Print the gradients\n",
        "print(\"Gradients:\", gradients)"
      ],
      "metadata": {
        "colab": {
          "base_uri": "https://localhost:8080/"
        },
        "id": "cVlj5c5ZDmeb",
        "outputId": "a5a6659e-22a5-4868-f5df-fa468ff9b085"
      },
      "execution_count": null,
      "outputs": [
        {
          "output_type": "stream",
          "name": "stdout",
          "text": [
            "Gradients: tensor([ 6., 12., 18.])\n"
          ]
        }
      ]
    },
    {
      "cell_type": "markdown",
      "source": [
        "# **Neural Networks:**\n",
        "1. Neural networks form the backbone of deep learning.\n",
        "\n",
        "2. In PyTorch, you can define and train neural networks using the torch.nn module. This module provides classes and functions for building various types of neural network architectures, such as fully connected networks, convolutional networks, and recurrent networks.\n",
        "\n",
        "3. It includes predefined layers, loss functions, and optimization algorithms to facilitate the construction and training of neural networks."
      ],
      "metadata": {
        "id": "ZrRnS0aqtAg5"
      }
    },
    {
      "cell_type": "code",
      "source": [
        "## 5. Neural Networks\n",
        "import torch.nn as nn\n"
      ],
      "metadata": {
        "id": "-d2XK5YSDxll"
      },
      "execution_count": null,
      "outputs": []
    },
    {
      "cell_type": "code",
      "source": [
        "# Define a simple neural network\n",
        "class SimpleNN(nn.Module):\n",
        "    def __init__(self):\n",
        "        super(SimpleNN, self).__init__()\n",
        "        self.fc = nn.Linear(10, 5)\n",
        "\n",
        "    def forward(self, x):\n",
        "        return self.fc(x)"
      ],
      "metadata": {
        "id": "I282Ehu-D5yK"
      },
      "execution_count": null,
      "outputs": []
    },
    {
      "cell_type": "code",
      "source": [
        "# Instantiate the network\n",
        "simple_model = SimpleNN()\n"
      ],
      "metadata": {
        "id": "8hhKBybmD8aw"
      },
      "execution_count": null,
      "outputs": []
    },
    {
      "cell_type": "code",
      "source": [
        "## 6. Loss and Optimization\n",
        "# Define a loss function\n",
        "criterion = nn.MSELoss()\n",
        "\n",
        "# Define an optimizer\n",
        "optimizer = torch.optim.SGD(simple_model.parameters(), lr=0.01)\n"
      ],
      "metadata": {
        "id": "puQFoCk4D-Nv"
      },
      "execution_count": null,
      "outputs": []
    },
    {
      "cell_type": "code",
      "source": [
        "## 7. Training Loop\n",
        "# Sample data for training\n",
        "input_data = torch.randn((100, 10))\n",
        "target_data = torch.randn((100, 5))\n",
        "\n",
        "# Training loop\n",
        "for epoch in range(100):\n",
        "    # Forward pass\n",
        "    output_data = simple_model(input_data)\n",
        "\n",
        "    # Compute loss\n",
        "    loss = criterion(output_data, target_data)\n",
        "\n",
        "    # Backward pass and optimization\n",
        "    optimizer.zero_grad()\n",
        "    loss.backward()\n",
        "    optimizer.step()"
      ],
      "metadata": {
        "id": "uaNMlLsZEAZU"
      },
      "execution_count": null,
      "outputs": []
    },
    {
      "cell_type": "markdown",
      "source": [
        "This code generates random input data for validation, passes it through the trained model, and prints the resulting output. The actual output values will depend on the weights learned during the training process and the specific data used for validation.\n",
        "\n",
        "\n",
        "\n",
        "\n",
        "\n"
      ],
      "metadata": {
        "id": "bBDjwCc9EvA-"
      }
    },
    {
      "cell_type": "code",
      "source": [
        "# Evaluation on a validation set\n",
        "validation_input = torch.randn((10, 10))\n",
        "validation_output = simple_model(validation_input)\n",
        "\n",
        "print(\"Validation Output:\")\n",
        "print(validation_output)"
      ],
      "metadata": {
        "colab": {
          "base_uri": "https://localhost:8080/"
        },
        "id": "8q1XRbyWEH_Z",
        "outputId": "f8896ca0-8a73-4dbd-d690-eebd4892b0dd"
      },
      "execution_count": null,
      "outputs": [
        {
          "output_type": "stream",
          "name": "stdout",
          "text": [
            "Validation Output:\n",
            "tensor([[ 0.0653, -0.1343, -0.1077, -0.5262,  0.2214],\n",
            "        [ 0.3202, -0.4175, -0.4803,  0.3323, -0.3410],\n",
            "        [ 0.1164,  0.4438,  1.0149,  0.2379, -0.2639],\n",
            "        [-0.2537, -0.2586,  0.4478,  0.0846, -0.4499],\n",
            "        [ 0.4264,  0.9571, -0.5702, -0.9395,  0.7159],\n",
            "        [-0.2000,  0.1830, -0.7054, -0.5051,  0.5223],\n",
            "        [-0.6934, -0.7542, -0.3835, -0.5341,  0.4562],\n",
            "        [ 0.7265,  0.3655,  0.1854,  0.0740,  0.1627],\n",
            "        [ 0.0363, -0.0160, -0.5201, -0.0821,  0.2671],\n",
            "        [ 0.6184,  0.2926, -0.4838, -0.0382,  0.6380]],\n",
            "       grad_fn=<AddmmBackward0>)\n"
          ]
        }
      ]
    },
    {
      "cell_type": "code",
      "source": [],
      "metadata": {
        "id": "F347B5P0El_U"
      },
      "execution_count": null,
      "outputs": []
    }
  ]
}